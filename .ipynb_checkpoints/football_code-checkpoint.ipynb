{
 "cells": [
  {
   "cell_type": "code",
   "execution_count": 3,
   "metadata": {},
   "outputs": [
    {
     "name": "stderr",
     "output_type": "stream",
     "text": [
      "C:\\Users\\ancha\\Anaconda3\\lib\\site-packages\\IPython\\core\\interactiveshell.py:3020: DtypeWarning: Columns (42,166,167,168,169,174,175,178,179,182,183,188,189,190,191,194,195,203,204,205,218,219,220,231,232,233,238,240,241,249) have mixed types. Specify dtype option on import or set low_memory=False.\n",
      "  interactivity=interactivity, compiler=compiler, result=result)\n"
     ]
    }
   ],
   "source": [
    "import pandas as pd\n",
    "import matplotlib.pyplot as plt\n",
    "import numpy as np\n",
    "import scipy.stats as stats\n",
    "import seaborn as sns\n",
    "\n",
    "\n",
    "# pd.set_option('display.max_columns', None)\n",
    "\n",
    "xl = pd.read_csv('C:\\\\Users\\\\ancha\\\\Documents\\\\IW_football\\\\data\\\\NFL Play by Play 2009-2018 (v5).csv')"
   ]
  },
  {
   "cell_type": "code",
   "execution_count": 70,
   "metadata": {},
   "outputs": [],
   "source": [
    "import matplotlib.pyplot as plt\n",
    "import numpy as np\n",
    "import math"
   ]
  },
  {
   "cell_type": "code",
   "execution_count": 4,
   "metadata": {},
   "outputs": [
    {
     "ename": "SyntaxError",
     "evalue": "unexpected EOF while parsing (<ipython-input-4-4b4ff96786fb>, line 2)",
     "output_type": "error",
     "traceback": [
      "\u001b[1;36m  File \u001b[1;32m\"<ipython-input-4-4b4ff96786fb>\"\u001b[1;36m, line \u001b[1;32m2\u001b[0m\n\u001b[1;33m    #     print(x)\u001b[0m\n\u001b[1;37m                  ^\u001b[0m\n\u001b[1;31mSyntaxError\u001b[0m\u001b[1;31m:\u001b[0m unexpected EOF while parsing\n"
     ]
    }
   ],
   "source": [
    "for x in xl.columns:\n",
    "#     print(x)"
   ]
  },
  {
   "cell_type": "code",
   "execution_count": 26,
   "metadata": {},
   "outputs": [],
   "source": [
    "pd.set_option('display.width', None)\n",
    "pd.set_option('display.max_colwidth', -1)\n",
    "game1 = xl[xl[\"game_id\"]==2009091000]\n",
    "# game1[['no_score_prob','desc','td_prob','own_kickoff_recovery']]"
   ]
  },
  {
   "cell_type": "code",
   "execution_count": 35,
   "metadata": {},
   "outputs": [],
   "source": [
    "def get_penalty_aggregate(df):\n",
    "    penalty_aggregate = {}\n",
    "    for index, row in df.iterrows():\n",
    "        year = row['game_date'][:4]\n",
    "        if row['penalty_type'] in penalty_aggregate:\n",
    "            if year in penalty_aggregate[row['penalty_type']]:\n",
    "                penalty_aggregate[row['penalty_type']][year] += 1\n",
    "            else:\n",
    "                penalty_aggregate[row['penalty_type']][year] = 1\n",
    "        else:\n",
    "            penalty_aggregate[row['penalty_type']] = {}\n",
    "            penalty_aggregate[row['penalty_type']][year] = 1\n",
    "    return penalty_aggregate\n",
    "penalty_aggregate = get_penalty_aggregate(xl)"
   ]
  },
  {
   "cell_type": "code",
   "execution_count": 60,
   "metadata": {},
   "outputs": [
    {
     "data": {
      "text/plain": [
       "array([nan, 'Unnecessary Roughness', 'Illegal Formation',\n",
       "       'Offensive Holding', 'Encroachment', 'Delay of Game',\n",
       "       'False Start', 'Illegal Block Above the Waist',\n",
       "       'Defensive Pass Interference', 'Ineligible Downfield Kick',\n",
       "       'Defensive Offside', 'Unsportsmanlike Conduct',\n",
       "       'Roughing the Passer', 'Personal Foul', 'Illegal Shift',\n",
       "       'Running Into the Kicker', 'Illegal Kick', 'Illegal Contact',\n",
       "       'Defensive Holding', 'Illegal Motion', 'Low Block',\n",
       "       'Illegal Substitution', 'Neutral Zone Infraction',\n",
       "       'Ineligible Downfield Pass', 'Illegal Blindside Block',\n",
       "       'Offensive Pass Interference', 'Fair Catch Interference',\n",
       "       'Illegal Use of Hands', 'Defensive Delay of Game',\n",
       "       'Offensive Offside', 'Tripping', 'Taunting', 'Chop Block',\n",
       "       'Interference with Opportunity to Catch', 'Illegal Touch Pass',\n",
       "       'Illegal Touch Kick', 'Offside on Free Kick',\n",
       "       'Intentional Grounding', 'Horse Collar', 'Illegal Forward Pass',\n",
       "       'Player Out of Bounds on Punt', 'Clipping', 'Roughing the Kicker',\n",
       "       'Disqualification', 'Short Free Kick', 'Illegal Receiver Pass',\n",
       "       'Invalid Fair Catch Signal', 'Horse Collar Tackle',\n",
       "       'Illegal Crackback', 'Illegal Wedge', 'Illegal Bat', 'Leverage',\n",
       "       'Illegal Procedure', 'Illegal Onside Kick', 'Leaping',\n",
       "       'Kickoff Out of Bounds', 'Illegal Peelback', 'Illegal Cut',\n",
       "       'Illegally Kicking Ball', 'Offensive Too Many Men on Field',\n",
       "       'Delay of Kickoff', 'Defensive Too Many Men on Field',\n",
       "       'Kick Catch Interference', 'Lowering the Head to Initiate Contact',\n",
       "       'Player Out of Bounds on Kick'], dtype=object)"
      ]
     },
     "execution_count": 60,
     "metadata": {},
     "output_type": "execute_result"
    }
   ],
   "source": [
    "xl['penalty_type'].unique()"
   ]
  },
  {
   "cell_type": "code",
   "execution_count": 105,
   "metadata": {},
   "outputs": [
    {
     "data": {
      "text/plain": [
       "Text(0.5, 1.0, 'Total Penalty Over Years')"
      ]
     },
     "execution_count": 105,
     "metadata": {},
     "output_type": "execute_result"
    },
    {
     "data": {
      "image/png": "[encoded data removed]",
      "text/plain": [
       "<Figure size 432x288 with 1 Axes>"
      ]
     },
     "metadata": {
      "needs_background": "light"
     },
     "output_type": "display_data"
    }
   ],
   "source": [
    "penalty_types1 = ['Unsportsmanlike Conduct', 'Disqualification']\n",
    "penalty_types2 = ['Unnecessary Roughness']\n",
    "penalty_types3 = [ 'Illegal Block Above the Waist']\n",
    "penalty_types4 = ['Defensive Pass Interference']\n",
    "plt.figure()\n",
    "for penalty in penalty_types2:\n",
    "    try:\n",
    "        isnan = math.isnan(penalty)\n",
    "    except:\n",
    "        isnan = False\n",
    "    if isnan:\n",
    "        continue\n",
    "#     penalty_aggregate[penalty] = dict(sorted(penalty_aggregate[penalty].items()))\n",
    "    curr_penalty = penalty_aggregate[penalty]\n",
    "    x = curr_penalty.keys()\n",
    "    y = curr_penalty.values()\n",
    "    plt.bar(x, y, label=penalty)\n",
    "plt.xlabel(\"year\")\n",
    "plt.ylabel(\"count\")\n",
    "plt.legend()\n",
    "plt.title(\"Total Penalty Over Years\")"
   ]
  },
  {
   "cell_type": "code",
   "execution_count": 62,
   "metadata": {},
   "outputs": [
    {
     "data": {
      "text/plain": [
       "{'2009': 125,\n",
       " '2010': 156,\n",
       " '2011': 166,\n",
       " '2012': 177,\n",
       " '2013': 216,\n",
       " '2014': 156,\n",
       " '2015': 208,\n",
       " '2016': 195,\n",
       " '2017': 208,\n",
       " '2018': 187}"
      ]
     },
     "execution_count": 62,
     "metadata": {},
     "output_type": "execute_result"
    }
   ],
   "source": [
    "penalty_aggregate['Unnecessary Roughness']"
   ]
  },
  {
   "cell_type": "markdown",
   "metadata": {},
   "source": [
    "# Injury"
   ]
  },
  {
   "cell_type": "code",
   "execution_count": 113,
   "metadata": {},
   "outputs": [
    {
     "data": {
      "text/plain": [
       "{'Knee': 48, 'Ankle': 42, 'Foot': 7, 'Toes': 7, 'Heel': 1}"
      ]
     },
     "execution_count": 113,
     "metadata": {},
     "output_type": "execute_result"
    }
   ],
   "source": [
    "xl = pd.read_csv('C:\\\\Users\\\\ancha\\\\Documents\\\\IW_football\\\\data\\\\InjuryRecord.csv')\n",
    "xl['BodyPart'].unique()\n",
    "injury_body = {}\n",
    "for bodypart in xl['BodyPart'].unique():\n",
    "    injury_body[bodypart] = 0\n",
    "for index, row in xl.iterrows():\n",
    "    injury_body[row['BodyPart']] += 1\n",
    "injury_body"
   ]
  },
  {
   "cell_type": "code",
   "execution_count": 123,
   "metadata": {},
   "outputs": [
    {
     "data": {
      "text/plain": [
       "Text(0.5, 1.0, 'Injuries by Body Part')"
      ]
     },
     "execution_count": 123,
     "metadata": {},
     "output_type": "execute_result"
    },
    {
     "data": {
      "image/png": "[encoded data removed]",
      "text/plain": [
       "<Figure size 432x288 with 1 Axes>"
      ]
     },
     "metadata": {},
     "output_type": "display_data"
    }
   ],
   "source": [
    "plt.figure()\n",
    "pie_chart_helper = []\n",
    "for bodypart in injury_body.keys():\n",
    "    pie_chart_helper.append(injury_body[bodypart])\n",
    "bodyparts = injury_body.keys()\n",
    "plt.pie(pie_chart_helper, labels=bodyparts)\n",
    "plt.legend()\n",
    "plt.title(\"Injuries by Body Part\")"
   ]
  },
  {
   "cell_type": "code",
   "execution_count": 126,
   "metadata": {},
   "outputs": [
    {
     "data": {
      "text/plain": [
       "Text(0.5, 1.0, 'Injuries by Body Part')"
      ]
     },
     "execution_count": 126,
     "metadata": {},
     "output_type": "execute_result"
    },
    {
     "data": {
      "image/png": "[encoded data removed]",
      "text/plain": [
       "<Figure size 432x288 with 1 Axes>"
      ]
     },
     "metadata": {
      "needs_background": "light"
     },
     "output_type": "display_data"
    }
   ],
   "source": [
    "plt.figure()\n",
    "pie_chart_helper = []\n",
    "for bodypart in injury_body.keys():\n",
    "    pie_chart_helper.append(injury_body[bodypart])\n",
    "bodyparts = injury_body.keys()\n",
    "plt.bar(bodyparts,pie_chart_helper)\n",
    "plt.xlabel(\"Body Part\")\n",
    "plt.ylabel(\"Count\")\n",
    "plt.title(\"Injuries by Body Part\")"
   ]
  },
  {
   "cell_type": "markdown",
   "metadata": {},
   "source": [
    "# Penalty Analysis"
   ]
  },
  {
   "cell_type": "code",
   "execution_count": 155,
   "metadata": {},
   "outputs": [],
   "source": [
    "# aggregate penalties\n",
    "# knee/ankle = peelback+wedge+low+chop\n",
    "# kickoff = blindside+low+crackback+above waist+clipping\n",
    "penalty_aggregate['knee/ankle blocks'] = {'2009':22,'2010':28,'2011':24,'2012':16,'2013':9,'2014':15,\n",
    "                                          '2015':20,'2016':10,'2017':15,'2018':15}\n",
    "penalty_aggregate['kickoff penalties'] = penalty_aggregate['Illegal Block Above the Waist'].copy()\n",
    "penalty_aggregate['kickoff penalties']['2009'] += 12\n",
    "penalty_aggregate['kickoff penalties']['2010'] += 16\n",
    "penalty_aggregate['kickoff penalties']['2011'] += 17\n",
    "penalty_aggregate['kickoff penalties']['2012'] += 22\n",
    "penalty_aggregate['kickoff penalties']['2013'] += 12\n",
    "penalty_aggregate['kickoff penalties']['2014'] += 24\n",
    "penalty_aggregate['kickoff penalties']['2015'] += 21\n",
    "penalty_aggregate['kickoff penalties']['2016'] += 11\n",
    "penalty_aggregate['kickoff penalties']['2017'] += 25\n",
    "penalty_aggregate['kickoff penalties']['2018'] += 16"
   ]
  },
  {
   "cell_type": "code",
   "execution_count": 158,
   "metadata": {},
   "outputs": [
    {
     "data": {
      "text/plain": [
       "Text(0.5, 1.0, 'Total Penalty Over Years')"
      ]
     },
     "execution_count": 158,
     "metadata": {},
     "output_type": "execute_result"
    },
    {
     "data": {
      "image/png": "[encoded data removed]",
      "text/plain": [
       "<Figure size 432x288 with 1 Axes>"
      ]
     },
     "metadata": {
      "needs_background": "light"
     },
     "output_type": "display_data"
    }
   ],
   "source": [
    "penalty_types2 = ['knee/ankle blocks']\n",
    "\n",
    "plt.figure()\n",
    "for penalty in penalty_types2:\n",
    "    try:\n",
    "        isnan = math.isnan(penalty)\n",
    "    except:\n",
    "        isnan = False\n",
    "    if isnan:\n",
    "        continue\n",
    "#     penalty_aggregate[penalty] = dict(sorted(penalty_aggregate[penalty].items()))\n",
    "    curr_penalty = penalty_aggregate[penalty]\n",
    "    x = curr_penalty.keys()\n",
    "    y = curr_penalty.values()\n",
    "    plt.bar(x, y, label=penalty)\n",
    "plt.xlabel(\"year\")\n",
    "plt.ylabel(\"count\")\n",
    "plt.legend()\n",
    "plt.title(\"Total Penalty Over Years\")"
   ]
  },
  {
   "cell_type": "markdown",
   "metadata": {},
   "source": [
    "# Correlation"
   ]
  },
  {
   "cell_type": "code",
   "execution_count": null,
   "metadata": {},
   "outputs": [],
   "source": []
  }
 ],
 "metadata": {
  "kernelspec": {
   "display_name": "Python 3",
   "language": "python",
   "name": "python3"
  },
  "language_info": {
   "codemirror_mode": {
    "name": "ipython",
    "version": 3
   },
   "file_extension": ".py",
   "mimetype": "text/x-python",
   "name": "python",
   "nbconvert_exporter": "python",
   "pygments_lexer": "ipython3",
   "version": "3.6.6"
  }
 },
 "nbformat": 4,
 "nbformat_minor": 2
}
